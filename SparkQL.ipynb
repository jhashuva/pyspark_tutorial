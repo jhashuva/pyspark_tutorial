{
 "cells": [
  {
   "cell_type": "code",
   "execution_count": 1,
   "id": "38c278ab",
   "metadata": {},
   "outputs": [],
   "source": [
    "import os\n",
    "# Set spark environments\n",
    "os.environ['PYSPARK_PYTHON'] = r'C:\\Users\\room102sys2\\AppData\\Local\\Programs\\Python\\Python39'\n",
    "#os.environ['PYSPARK_DRIVER_PYTHON'] = r'C:\\Users\\room102sys2\\AppData\\Local\\Programs\\Python\\Python39\\Scripts\\jupyter'\n",
    "#os.environ['']"
   ]
  },
  {
   "cell_type": "code",
   "execution_count": 2,
   "id": "13262969",
   "metadata": {},
   "outputs": [],
   "source": [
    "from pyspark.sql import SparkSession\n",
    "from pyspark import SparkContext, SparkConf"
   ]
  },
  {
   "cell_type": "code",
   "execution_count": 3,
   "id": "e09c47cd",
   "metadata": {},
   "outputs": [],
   "source": [
    "import findspark\n",
    "findspark.init('C:\\Program Files\\Spark')"
   ]
  },
  {
   "cell_type": "code",
   "execution_count": 4,
   "id": "63299a9c",
   "metadata": {},
   "outputs": [],
   "source": [
    "sp = SparkSession.builder.appName(\"SparkQL\").getOrCreate()\n",
    "sc = sp.sparkContext"
   ]
  },
  {
   "cell_type": "code",
   "execution_count": 5,
   "id": "d3799e76",
   "metadata": {},
   "outputs": [
    {
     "name": "stdout",
     "output_type": "stream",
     "text": [
      "+-------+\n",
      "|(1 + 1)|\n",
      "+-------+\n",
      "|      2|\n",
      "+-------+\n",
      "\n"
     ]
    }
   ],
   "source": [
    "sp.sql(\"SELECT 1 + 1\").show()"
   ]
  },
  {
   "cell_type": "code",
   "execution_count": 8,
   "id": "ccc899a1",
   "metadata": {},
   "outputs": [],
   "source": [
    "# in Python\n",
    "sp.read.json(\"F:/proj_pyspark/data/Spark-The-Definitive-Guide/data/flight-data/json/2015-summary.json\").createOrReplaceTempView(\"some_sql_view\") # DF => SQL"
   ]
  },
  {
   "cell_type": "code",
   "execution_count": 10,
   "id": "f33e583f",
   "metadata": {},
   "outputs": [
    {
     "data": {
      "text/plain": [
       "12"
      ]
     },
     "execution_count": 10,
     "metadata": {},
     "output_type": "execute_result"
    }
   ],
   "source": [
    "sp.sql(\"\"\"SELECT DEST_COUNTRY_NAME, sum(count) FROM some_sql_view GROUP BY DEST_COUNTRY_NAME\"\"\")\\\n",
    ".where(\"DEST_COUNTRY_NAME like 'S%'\").where(\"`sum(count)` > 10\")\\\n",
    ".count() # SQL => DF"
   ]
  },
  {
   "cell_type": "code",
   "execution_count": null,
   "id": "0beebb3a",
   "metadata": {},
   "outputs": [],
   "source": []
  },
  {
   "cell_type": "code",
   "execution_count": null,
   "id": "e996886f",
   "metadata": {},
   "outputs": [],
   "source": []
  }
 ],
 "metadata": {
  "kernelspec": {
   "display_name": "Python 3 (ipykernel)",
   "language": "python",
   "name": "python3"
  },
  "language_info": {
   "codemirror_mode": {
    "name": "ipython",
    "version": 3
   },
   "file_extension": ".py",
   "mimetype": "text/x-python",
   "name": "python",
   "nbconvert_exporter": "python",
   "pygments_lexer": "ipython3",
   "version": "3.9.7"
  }
 },
 "nbformat": 4,
 "nbformat_minor": 5
}
